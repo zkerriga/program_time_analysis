{
 "cells": [
  {
   "cell_type": "markdown",
   "metadata": {},
   "source": [
    "### Анализ времени выполнения программы\n",
    "\n",
    "Исследование проводится с помощью встроенной в систему утилиты <i>time</i>. Каждый эксперимент содержит последовательный запуск программы с одинаковыми аргументами (количество запусков зависит от выбранного объёма выборки). Далее рассчитывается <b>среднее значение</b> времени и сохраняется <b>минимальное</b> и <b>максимальное</b> значения.\n",
    "\n",
    "На основании результатов каждого проведённого эксперимента создаётся визуализация статистики, позволяющая наглядно определить, как и насколько оптимизация программы повлияла на время её работы."
   ]
  },
  {
   "cell_type": "code",
   "execution_count": 9,
   "metadata": {},
   "outputs": [],
   "source": [
    "import pandas as pd\n",
    "import numpy as np\n",
    "import datetime\n",
    "import os\n",
    "from matplotlib import pylab as plt\n",
    "from scipy import interpolate\n",
    "%matplotlib inline"
   ]
  },
  {
   "cell_type": "markdown",
   "metadata": {},
   "source": [
    "#### Константные данные об анализируемой программе:"
   ]
  },
  {
   "cell_type": "code",
   "execution_count": 10,
   "metadata": {},
   "outputs": [],
   "source": [
    "PATH = \"/home/zkerriga/proj/time_analysis/test/\"\n",
    "PROGRAM = \"miniRT\"\n",
    "ARGUMENTS = [PATH + \"test_time.rt\", \"--save\"]\n",
    "TMP_FILE = \"tmp.txt\""
   ]
  },
  {
   "cell_type": "markdown",
   "metadata": {},
   "source": [
    "#### Класс, проводящий эксперимент над программой\n",
    "Инициализируется:\n",
    "- строкой для <i>bash</i>\n",
    "- строкой хэша последнего коммита\n",
    "- размером выборки (по умолчанию = 10)"
   ]
  },
  {
   "cell_type": "code",
   "execution_count": 11,
   "metadata": {},
   "outputs": [],
   "source": [
    "class Experiment:\n",
    "    \n",
    "    def __init__(self, bash_str:str, last_hash:str, sample_size=10):\n",
    "        self.bash_command = bash_str\n",
    "        self.sample_size = sample_size\n",
    "        self.seconds_array = np.zeros(sample_size, np.float32)\n",
    "        self.hash = last_hash\n",
    "        self.mean = 0\n",
    "        self.max_time = 0\n",
    "        self.min_time = 0\n",
    "        \n",
    "    def get_seconds_from_time_output(self, time_output:str):\n",
    "        return float(time_output.split()[1][2:-1])\n",
    "    \n",
    "    def one_try(self):\n",
    "        os.system(self.bash_command)\n",
    "        with open(TMP_FILE, 'r') as file:\n",
    "            time_output:str = file.read()\n",
    "            seconds:float = self.get_seconds_from_time_output(time_output)\n",
    "            print(f\"Current program time: {seconds} seconds\")\n",
    "        return seconds\n",
    "    \n",
    "    def go(self):\n",
    "        print(\"The experiment was started:\")\n",
    "        for i in range(self.sample_size):\n",
    "            self.seconds_array[i] = self.one_try()\n",
    "        print(\"The experiment is over!\")\n",
    "        self.mean = self.seconds_array.mean()\n",
    "        self.max_time = self.seconds_array.max()\n",
    "        self.min_time = self.seconds_array.min()\n",
    "            \n",
    "    def show_spread_chart(self):\n",
    "        x = np.arange(self.sample_size)\n",
    "        f = interpolate.interp1d(x, self.seconds_array, kind='linear')\n",
    "        xtn = np.arange(0, self.sample_size - 0.9, 0.1)\n",
    "        ytn = f(xtn)\n",
    "        plt.axis([-self.sample_size / 20, self.sample_size - (1 - self.sample_size / 20), 0, self.max_time + 1])\n",
    "        plt.grid()\n",
    "        plt.title('Демонстрация разброса\\nвремени выполнения программы')\n",
    "        plt.ylabel('Время (в секундах)')\n",
    "        plt.xlabel('Номер теста')\n",
    "        plt.plot(x, self.seconds_array, 'o', xtn, ytn, '-')\n",
    "        plt.show()\n",
    "        \n",
    "    def get_result_info(self):\n",
    "        return f\"[EXSPERIMENT]\\n\\\n",
    "|\\n| hash = {str(self.hash)}\\n\\\n",
    "| mean = {str(round(self.mean, 4))}\\n\\\n",
    "| maxt = {round(self.max_time, 4)}\\n\\\n",
    "| mint = {round(self.min_time, 4)}\\n\\\n",
    "|\\n\\\n",
    "[END OF EXPERIMENT]\""
   ]
  },
  {
   "cell_type": "markdown",
   "metadata": {},
   "source": [
    "#### Создание bash строк для эксперимента\n",
    "- Используется встроенный в систему модуль <i>time</i> для анализа времени\n",
    "- Используется <i>git</i> для определение хэша последнего коммита "
   ]
  },
  {
   "cell_type": "code",
   "execution_count": 12,
   "metadata": {},
   "outputs": [],
   "source": [
    "def get_time_str(path:str, name:str, args:list, tmp:str):\n",
    "    return f\"{{ time {path}{name} {' '.join(args)} ; }} 2>{tmp}\""
   ]
  },
  {
   "cell_type": "code",
   "execution_count": 13,
   "metadata": {},
   "outputs": [],
   "source": [
    "def get_last_hash(path:str, tmp:str):\n",
    "    os.system(f\"git -C {path} log -n 1 > {tmp}\")\n",
    "    hash_str:str = \"\"\n",
    "    with open(tmp, 'r') as file:\n",
    "        hash_str = file.readline().split()[1][:8]\n",
    "    return hash_str"
   ]
  },
  {
   "cell_type": "code",
   "execution_count": 76,
   "metadata": {},
   "outputs": [
    {
     "name": "stdout",
     "output_type": "stream",
     "text": [
      "$> { time /home/zkerriga/proj/time_analysis/test/miniRT /home/zkerriga/proj/time_analysis/test/test_time.rt --save ; } 2>time_tmp.txt\n"
     ]
    }
   ],
   "source": [
    "# Генерируем bash строку для конкретной программы\n",
    "bash_time_str = get_time_str(PATH, PROGRAM, ARGUMENTS, TMP_FILE)\n",
    "print(\"$>\", bash_time_str)"
   ]
  },
  {
   "cell_type": "markdown",
   "metadata": {},
   "source": [
    "#### Старт эксперимента"
   ]
  },
  {
   "cell_type": "code",
   "execution_count": 77,
   "metadata": {},
   "outputs": [
    {
     "name": "stdout",
     "output_type": "stream",
     "text": [
      "Last hash: 655f9cc3\n"
     ]
    }
   ],
   "source": [
    "# Получаем хэш изменений в проекте\n",
    "last_hash = get_last_hash(PATH, TMP_FILE)\n",
    "print(\"Last hash:\", last_hash)"
   ]
  },
  {
   "cell_type": "code",
   "execution_count": 78,
   "metadata": {},
   "outputs": [],
   "source": [
    "# Создание объекта\n",
    "experiment = Experiment(bash_time_str, last_hash, sample_size=10)"
   ]
  },
  {
   "cell_type": "code",
   "execution_count": 67,
   "metadata": {},
   "outputs": [
    {
     "name": "stdout",
     "output_type": "stream",
     "text": [
      "Current program time: 2.14 seconds\n",
      "Current program time: 2.448 seconds\n",
      "Current program time: 2.136 seconds\n",
      "Current program time: 2.495 seconds\n",
      "Current program time: 1.92 seconds\n",
      "Current program time: 2.333 seconds\n",
      "Current program time: 2.37 seconds\n",
      "Current program time: 2.238 seconds\n",
      "Current program time: 2.477 seconds\n",
      "Current program time: 2.156 seconds\n",
      "\n"
     ]
    }
   ],
   "source": [
    "# Запуск тестирования\n",
    "experiment.go()"
   ]
  },
  {
   "cell_type": "code",
   "execution_count": 68,
   "metadata": {},
   "outputs": [
    {
     "name": "stdout",
     "output_type": "stream",
     "text": [
      "[EXSPERIMENT]\n",
      "|\n",
      "| hash = 655f9cc3\n",
      "| mean = 2.2713\n",
      "| maxt = 2.494999885559082\n",
      "| mint = 1.9199999570846558\n",
      "|\n",
      "[END OF EXPERIMENT]\n"
     ]
    }
   ],
   "source": [
    "# Получаем сводку по эксперименту\n",
    "print(experiment.get_result_info())"
   ]
  },
  {
   "cell_type": "code",
   "execution_count": 69,
   "metadata": {},
   "outputs": [
    {
     "data": {
      "image/png": "[encoded data removed]",
      "text/plain": [
       "<Figure size 432x288 with 1 Axes>"
      ]
     },
     "metadata": {
      "needs_background": "light"
     },
     "output_type": "display_data"
    }
   ],
   "source": [
    "# График\n",
    "experiment.show_spread_chart()"
   ]
  },
  {
   "cell_type": "markdown",
   "metadata": {},
   "source": [
    "#### Работа с базой данных и регистрация результатов"
   ]
  },
  {
   "cell_type": "code",
   "execution_count": 70,
   "metadata": {},
   "outputs": [],
   "source": [
    "# создание DataFrame с помощью чтения данных из файла\n",
    "dataframe = pd.read_csv('dataset.tsv', header=0, sep='\\t')"
   ]
  },
  {
   "cell_type": "code",
   "execution_count": 71,
   "metadata": {},
   "outputs": [],
   "source": [
    "def add_experiment_to_data(dataframe, experiment):\n",
    "    if dataframe[dataframe.Hash == experiment.hash].empty:\n",
    "        new_frame_line = {\n",
    "                        'Hash': experiment.hash,\n",
    "                        'Mean_time': round(experiment.mean, 4),\n",
    "                        'Min_time': round(experiment.min_time, 4),\n",
    "                        'Max_time': round(experiment.max_time, 4)\n",
    "        }\n",
    "        return dataframe.append(new_frame_line, ignore_index=True)\n",
    "    else:\n",
    "        return dataframe"
   ]
  },
  {
   "cell_type": "code",
   "execution_count": 72,
   "metadata": {},
   "outputs": [],
   "source": [
    "# Добавляем результат эксперимента, если хэш новый\n",
    "dataframe = add_experiment_to_data(dataframe, experiment)"
   ]
  },
  {
   "cell_type": "code",
   "execution_count": 73,
   "metadata": {},
   "outputs": [],
   "source": [
    "# запись DataFrame в файл\n",
    "dataframe.to_csv('dataset.tsv', sep='\\t', header=True, index=False)"
   ]
  },
  {
   "cell_type": "code",
   "execution_count": 80,
   "metadata": {},
   "outputs": [],
   "source": [
    "def get_linear_interpolate_arrays(np_array, size:int):\n",
    "    x = np.arange(size)\n",
    "    f = interpolate.interp1d(x, np_array, kind='linear')\n",
    "    xtn = np.arange(0, size - 0.9, 0.1)\n",
    "    ytn = f(xtn)\n",
    "    return (xtn, ytn)\n",
    "\n",
    "def show_statistics(dataframe):\n",
    "    dataframe_size = dataframe.shape[0]\n",
    "    if dataframe_size > 1:\n",
    "        x = np.arange(dataframe_size)\n",
    "        mean_array = np.array(dataframe.Mean_time, np.float32)\n",
    "        max_array = np.array(dataframe.Max_time, np.float32)\n",
    "        min_array = np.array(dataframe.Min_time, np.float32)\n",
    "        mean_xtn, mean_ytn = get_linear_interpolate_arrays(mean_array, dataframe_size)\n",
    "        max_xtn, max_ytn = get_linear_interpolate_arrays(max_array, dataframe_size)\n",
    "        min_xtn, min_ytn = get_linear_interpolate_arrays(min_array, dataframe_size)\n",
    "        plt.grid()\n",
    "        plt.title('Зависимость среднего времени\\nвыполнения программы от коммита')\n",
    "        plt.ylabel('Время (в секундах)')\n",
    "        plt.xlabel('Порядковый номер коммита')\n",
    "        plt.plot(x, mean_array, 'o')\n",
    "        plt.plot(max_xtn, max_ytn, 'r--', label='maximum time')\n",
    "        plt.plot(mean_xtn, mean_ytn, 'y-', label='mean time')\n",
    "        plt.plot(min_xtn, min_ytn, 'g--', label='minimal time')\n",
    "        plt.legend()\n",
    "        plt.show()\n",
    "    else:\n",
    "        print(\"Not enough data!\")"
   ]
  },
  {
   "cell_type": "code",
   "execution_count": 81,
   "metadata": {},
   "outputs": [
    {
     "data": {
      "image/png": "[encoded data removed]",
      "text/plain": [
       "<Figure size 432x288 with 1 Axes>"
      ]
     },
     "metadata": {
      "needs_background": "light"
     },
     "output_type": "display_data"
    }
   ],
   "source": [
    "# Формируем общую статистику по результатам экспериментов\n",
    "show_statistics(dataframe)"
   ]
  },
  {
   "cell_type": "code",
   "execution_count": null,
   "metadata": {},
   "outputs": [],
   "source": []
  },
  {
   "cell_type": "code",
   "execution_count": null,
   "metadata": {},
   "outputs": [],
   "source": []
  }
 ],
 "metadata": {
  "kernelspec": {
   "display_name": "Python 3",
   "language": "python",
   "name": "python3"
  },
  "language_info": {
   "codemirror_mode": {
    "name": "ipython",
    "version": 3
   },
   "file_extension": ".py",
   "mimetype": "text/x-python",
   "name": "python",
   "nbconvert_exporter": "python",
   "pygments_lexer": "ipython3",
   "version": "3.8.3"
  }
 },
 "nbformat": 4,
 "nbformat_minor": 4
}
